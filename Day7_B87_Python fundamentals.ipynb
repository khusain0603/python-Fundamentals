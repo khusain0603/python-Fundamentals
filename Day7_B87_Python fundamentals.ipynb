{
 "cells": [
  {
   "cell_type": "code",
   "execution_count": null,
   "id": "7a521a35-350f-4ba5-bb0a-f3037f1ea767",
   "metadata": {},
   "outputs": [],
   "source": [
    "loping statements:"
   ]
  },
  {
   "cell_type": "code",
   "execution_count": null,
   "id": "21725760-eea4-424a-92e4-137d036303ad",
   "metadata": {},
   "outputs": [],
   "source": [
    "for loop:"
   ]
  },
  {
   "cell_type": "code",
   "execution_count": null,
   "id": "b6f5d553-e015-4c53-8d80-6e2750a45134",
   "metadata": {},
   "outputs": [],
   "source": [
    "General syntax:\n",
    "\n",
    "for tempvar in mainvar\n",
    "    print(tempvar)"
   ]
  },
  {
   "cell_type": "code",
   "execution_count": 3,
   "id": "279dd6ea-6202-49ec-9e5e-be7950cc4856",
   "metadata": {},
   "outputs": [
    {
     "name": "stdout",
     "output_type": "stream",
     "text": [
      "['akshay', 'bhavana', 'chandu', 'dinesh', 'ehsan']\n"
     ]
    }
   ],
   "source": [
    "students=['akshay','bhavana','chandu','dinesh','ehsan']    \n",
    "print(students)"
   ]
  },
  {
   "cell_type": "code",
   "execution_count": null,
   "id": "5abcdfc9-7ce4-47ea-897b-ee56e44f3e97",
   "metadata": {},
   "outputs": [],
   "source": []
  },
  {
   "cell_type": "code",
   "execution_count": null,
   "id": "2bd400b4-a6ff-4449-86f4-08e8ec45a701",
   "metadata": {},
   "outputs": [],
   "source": [
    "#req: i want to appreciate the above students for submitting the work on the daily basis]"
   ]
  },
  {
   "cell_type": "code",
   "execution_count": 4,
   "id": "8d11bb7d-9bca-40dd-a893-163053e74eab",
   "metadata": {},
   "outputs": [
    {
     "name": "stdout",
     "output_type": "stream",
     "text": [
      "keep up the good work,Akshay\n",
      "keep up the good work,Bhavana\n",
      "keep up the good work,Chandu\n",
      "keep up the good work,Dinesh\n",
      "keep up the good work,Ehsan\n"
     ]
    }
   ],
   "source": [
    "for a in students:\n",
    "    print(f\"keep up the good work,{a.title()}\")"
   ]
  },
  {
   "cell_type": "code",
   "execution_count": null,
   "id": "937c5f32-fc5f-4698-b456-0b383ed380c3",
   "metadata": {},
   "outputs": [],
   "source": []
  },
  {
   "cell_type": "code",
   "execution_count": 6,
   "id": "b93137e0-2e2c-47e1-989e-c494c31668e9",
   "metadata": {},
   "outputs": [
    {
     "name": "stdout",
     "output_type": "stream",
     "text": [
      "keep up the good work,Akshay\n",
      "i am waiting to recieve your submission of today,Akshay\n",
      "keep up the good work,Bhavana\n",
      "i am waiting to recieve your submission of today,Bhavana\n",
      "keep up the good work,Chandu\n",
      "i am waiting to recieve your submission of today,Chandu\n",
      "keep up the good work,Dinesh\n",
      "i am waiting to recieve your submission of today,Dinesh\n",
      "keep up the good work,Ehsan\n",
      "i am waiting to recieve your submission of today,Ehsan\n"
     ]
    }
   ],
   "source": [
    "for a in students:\n",
    "    print(f\"keep up the good work,{a.title()}\")\n",
    "    print(f\"i am waiting to recieve your submission of today,{a.title()}\")"
   ]
  },
  {
   "cell_type": "code",
   "execution_count": 7,
   "id": "a67a7f2e-45f7-4b92-8af6-f58e7bee5613",
   "metadata": {},
   "outputs": [
    {
     "name": "stdout",
     "output_type": "stream",
     "text": [
      " keep up the good work,Akshay\n",
      "i am waiting to recieve your submission of today,Akshay\n",
      "\n",
      " keep up the good work,Bhavana\n",
      "i am waiting to recieve your submission of today,Bhavana\n",
      "\n",
      " keep up the good work,Chandu\n",
      "i am waiting to recieve your submission of today,Chandu\n",
      "\n",
      " keep up the good work,Dinesh\n",
      "i am waiting to recieve your submission of today,Dinesh\n",
      "\n",
      " keep up the good work,Ehsan\n",
      "i am waiting to recieve your submission of today,Ehsan\n",
      "\n"
     ]
    }
   ],
   "source": [
    "for a in students:\n",
    "    print(f\" keep up the good work,{a.title()}\")\n",
    "    print(f\"i am waiting to recieve your submission of today,{a.title()}\\n\")"
   ]
  },
  {
   "cell_type": "code",
   "execution_count": 9,
   "id": "872073a2-6d0e-4525-b96a-9b5f7d70c73e",
   "metadata": {},
   "outputs": [
    {
     "name": "stdout",
     "output_type": "stream",
     "text": [
      "keep up the good work,Akshay\n",
      " i am waiting to recieve your submission of today,Akshay\n",
      "\n",
      "keep up the good work,Bhavana\n",
      " i am waiting to recieve your submission of today,Bhavana\n",
      "\n",
      "keep up the good work,Chandu\n",
      " i am waiting to recieve your submission of today,Chandu\n",
      "\n",
      "keep up the good work,Dinesh\n",
      " i am waiting to recieve your submission of today,Dinesh\n",
      "\n",
      "keep up the good work,Ehsan\n",
      " i am waiting to recieve your submission of today,Ehsan\n",
      "\n",
      "thank you all for attending the pythontraining sessions\n"
     ]
    }
   ],
   "source": [
    "for a in students:\n",
    "    print(f\"keep up the good work,{a.title()}\")\n",
    "    print(f\" i am waiting to recieve your submission of today,{a.title()}\\n\")\n",
    "print(\"thank you all for attending the pythontraining sessions\")    "
   ]
  },
  {
   "cell_type": "code",
   "execution_count": null,
   "id": "a4446ff4-3c0c-4578-b10b-af5cec284f0b",
   "metadata": {},
   "outputs": [],
   "source": []
  }
 ],
 "metadata": {
  "kernelspec": {
   "display_name": "Python [conda env:base] *",
   "language": "python",
   "name": "conda-base-py"
  },
  "language_info": {
   "codemirror_mode": {
    "name": "ipython",
    "version": 3
   },
   "file_extension": ".py",
   "mimetype": "text/x-python",
   "name": "python",
   "nbconvert_exporter": "python",
   "pygments_lexer": "ipython3",
   "version": "3.13.5"
  }
 },
 "nbformat": 4,
 "nbformat_minor": 5
}

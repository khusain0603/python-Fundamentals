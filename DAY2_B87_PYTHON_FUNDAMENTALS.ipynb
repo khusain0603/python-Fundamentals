{
 "cells": [
  {
   "cell_type": "code",
   "execution_count": null,
   "id": "65adda2d-bbf7-427a-a391-402e7f9d5458",
   "metadata": {},
   "outputs": [],
   "source": [
    "Inrtoduction to  python programming\n"
   ]
  },
  {
   "cell_type": "code",
   "execution_count": null,
   "id": "3fc4e2d6-6a74-464d-a829-e4004c877cd0",
   "metadata": {},
   "outputs": [],
   "source": [
    "undertsanding the variables in python\n"
   ]
  },
  {
   "cell_type": "code",
   "execution_count": 8,
   "id": "0bf16f85-5629-46cd-ba8c-36ad5734f47c",
   "metadata": {},
   "outputs": [],
   "source": [
    "x=2\n",
    "\n",
    "y=3\n"
   ]
  },
  {
   "cell_type": "code",
   "execution_count": 9,
   "id": "b3b53e21-c185-44e5-bf3b-de8584fe7a89",
   "metadata": {},
   "outputs": [
    {
     "name": "stdout",
     "output_type": "stream",
     "text": [
      "5\n"
     ]
    }
   ],
   "source": [
    "z= x+y\n",
    "\n",
    "print(z)\n"
   ]
  },
  {
   "cell_type": "code",
   "execution_count": null,
   "id": "30793c42-34eb-4748-929c-eb927af501da",
   "metadata": {},
   "outputs": [],
   "source": [
    "Rules for declaring the variables in python:\n"
   ]
  },
  {
   "cell_type": "code",
   "execution_count": null,
   "id": "0cfa5db2-96f2-4b88-aabb-43c50d1026e2",
   "metadata": {},
   "outputs": [],
   "source": [
    "Rule NO 1 : NO Namespaces while declaring the variables name in  python\n"
   ]
  },
  {
   "cell_type": "code",
   "execution_count": 13,
   "id": "caa5887d-a850-44d3-85d3-5c12e1400fbf",
   "metadata": {},
   "outputs": [
    {
     "ename": "SyntaxError",
     "evalue": "invalid syntax (2296022308.py, line 1)",
     "output_type": "error",
     "traceback": [
      "\u001b[1;36m  Cell \u001b[1;32mIn[13], line 1\u001b[1;36m\u001b[0m\n\u001b[1;33m    first name='Faiyaz'\u001b[0m\n\u001b[1;37m          ^\u001b[0m\n\u001b[1;31mSyntaxError\u001b[0m\u001b[1;31m:\u001b[0m invalid syntax\n"
     ]
    }
   ],
   "source": [
    "first name='Faiyaz'\n",
    "\n",
    "print(first name)\n"
   ]
  },
  {
   "cell_type": "code",
   "execution_count": 14,
   "id": "34515d38-23a7-42ca-ba81-aaf5f493c54d",
   "metadata": {},
   "outputs": [
    {
     "name": "stdout",
     "output_type": "stream",
     "text": [
      "Faiyaz\n"
     ]
    }
   ],
   "source": [
    "firstname='Faiyaz'\n",
    "print(firstname)\n"
   ]
  },
  {
   "cell_type": "code",
   "execution_count": null,
   "id": "3fbf9292-7201-43e1-9386-2faabe6861ba",
   "metadata": {},
   "outputs": [],
   "source": [
    "Rule No 2 : A variable name should not start with a number **"
   ]
  },
  {
   "cell_type": "code",
   "execution_count": 17,
   "id": "82447be1-ba6f-4530-83b8-1f648c88e220",
   "metadata": {},
   "outputs": [
    {
     "ename": "SyntaxError",
     "evalue": "invalid decimal literal (2083674672.py, line 1)",
     "output_type": "error",
     "traceback": [
      "\u001b[1;36m  Cell \u001b[1;32mIn[17], line 1\u001b[1;36m\u001b[0m\n\u001b[1;33m    1name='karthik'\u001b[0m\n\u001b[1;37m    ^\u001b[0m\n\u001b[1;31mSyntaxError\u001b[0m\u001b[1;31m:\u001b[0m invalid decimal literal\n"
     ]
    }
   ],
   "source": [
    "1name='karthik'\n",
    "print(1name)\n",
    "\n"
   ]
  },
  {
   "cell_type": "code",
   "execution_count": 18,
   "id": "d6e25f59-fd76-4591-923d-6a846a230710",
   "metadata": {},
   "outputs": [
    {
     "name": "stdout",
     "output_type": "stream",
     "text": [
      "karthik\n"
     ]
    }
   ],
   "source": [
    "name1= 'karthik'\n",
    "\n",
    "print(name1)"
   ]
  },
  {
   "cell_type": "raw",
   "id": "0bd5ffa3-51ff-40b2-b92c-433e4b0e412a",
   "metadata": {},
   "source": [
    "Rule No 3 : A variable name should not contain anny special characters\n",
    "\n",
    "  @ # $ % ^ & *\n"
   ]
  },
  {
   "cell_type": "code",
   "execution_count": 19,
   "id": "4fcdb614-b891-49d0-97a8-70480da33073",
   "metadata": {},
   "outputs": [
    {
     "ename": "SyntaxError",
     "evalue": "invalid syntax (1875192697.py, line 3)",
     "output_type": "error",
     "traceback": [
      "\u001b[1;36m  Cell \u001b[1;32mIn[19], line 3\u001b[1;36m\u001b[0m\n\u001b[1;33m    print(name@)\u001b[0m\n\u001b[1;37m               ^\u001b[0m\n\u001b[1;31mSyntaxError\u001b[0m\u001b[1;31m:\u001b[0m invalid syntax\n"
     ]
    }
   ],
   "source": [
    "name@=\"deepak\"\n",
    "\n",
    "print(name@)"
   ]
  },
  {
   "cell_type": "code",
   "execution_count": null,
   "id": "66bbb0cd-7dd1-40be-b786-9faef12ab526",
   "metadata": {},
   "outputs": [],
   "source": [
    "introduction to datatypes in python:"
   ]
  },
  {
   "cell_type": "code",
   "execution_count": null,
   "id": "1baea741-2c7c-4e87-9722-c365ca9df921",
   "metadata": {},
   "outputs": [],
   "source": [
    "1. stings===> str\n",
    "2. Numbers====> integers---> int and floats===> float ( decimals===>0.1,2)\n",
    "3. lists ===> list\n",
    "4. tuples===> tuple\n",
    "5. Dictionaries===> dict\n"
   ]
  },
  {
   "cell_type": "code",
   "execution_count": null,
   "id": "9c17fab1-f4c4-4f1a-bfbd-0b8f3fea6d7e",
   "metadata": {},
   "outputs": [],
   "source": [
    "Note: python is a case sensitive programing language"
   ]
  },
  {
   "cell_type": "code",
   "execution_count": null,
   "id": "3cdb6203-0b98-497d-af55-4bcbe6f4aa11",
   "metadata": {},
   "outputs": [],
   "source": []
  },
  {
   "cell_type": "code",
   "execution_count": null,
   "id": "2ecad07a-f6f2-48a1-9758-6695295849d2",
   "metadata": {},
   "outputs": [],
   "source": [
    "classification of datatypes in python:"
   ]
  },
  {
   "cell_type": "code",
   "execution_count": null,
   "id": "4f50506c-15af-412c-b034-b7257f0521b8",
   "metadata": {},
   "outputs": [],
   "source": [
    "Broadly datatypes are classified in to 2 different categories:\n",
    "\n",
    "  1  mutable datatypes====> which can edit /alter===>flexible in nature\n",
    "  2 immutable datatypes===> which we cannot be able to eidt ==>not flexible in nature"
   ]
  },
  {
   "cell_type": "code",
   "execution_count": null,
   "id": "89a8fec8-9147-4938-b4c3-db7ec61d8aa0",
   "metadata": {},
   "outputs": [],
   "source": []
  },
  {
   "cell_type": "code",
   "execution_count": null,
   "id": "d596646b-0577-4671-9bc0-ce148de4d326",
   "metadata": {},
   "outputs": [],
   "source": [
    "introduction to string datatypes:"
   ]
  },
  {
   "cell_type": "code",
   "execution_count": null,
   "id": "dffd7b47-351d-45de-98dc-56927ff30a51",
   "metadata": {},
   "outputs": [],
   "source": [
    "defination: A string is a series  of character declared in quotes"
   ]
  },
  {
   "cell_type": "code",
   "execution_count": null,
   "id": "4ec7d557-ea9c-4e51-b312-07b4660ed59e",
   "metadata": {},
   "outputs": [],
   "source": [
    "classification: it is classified as an  immutable  datatype"
   ]
  },
  {
   "cell_type": "code",
   "execution_count": null,
   "id": "93f27e8d-aa67-45c6-8d32-207ebb094a06",
   "metadata": {},
   "outputs": [],
   "source": [
    "how to declare the string datatype===>2 approaches"
   ]
  },
  {
   "cell_type": "code",
   "execution_count": null,
   "id": "db33ee3a-0964-4023-9612-9c1b6a4ec960",
   "metadata": {},
   "outputs": [],
   "source": [
    "1  single quote\n",
    "2 doubel quote"
   ]
  },
  {
   "cell_type": "code",
   "execution_count": 20,
   "id": "bd6bda63-123f-4b37-80da-097354bb1d36",
   "metadata": {},
   "outputs": [
    {
     "name": "stdout",
     "output_type": "stream",
     "text": [
      "joseph\n"
     ]
    }
   ],
   "source": [
    "name='joseph'   # single quote\n",
    "\n",
    "print(name)"
   ]
  },
  {
   "cell_type": "code",
   "execution_count": 23,
   "id": "c4195fe4-6d60-473a-b656-1e4f6a05c857",
   "metadata": {},
   "outputs": [
    {
     "name": "stdout",
     "output_type": "stream",
     "text": [
      "kavya\n"
     ]
    }
   ],
   "source": [
    "name2= \"kavya\" #double quote\n",
    "\n",
    "print(name2)"
   ]
  },
  {
   "cell_type": "code",
   "execution_count": null,
   "id": "8180e000-9421-488c-ae14-ef9dee369a0f",
   "metadata": {},
   "outputs": [],
   "source": [
    "introduction to string  methods:\n"
   ]
  },
  {
   "cell_type": "code",
   "execution_count": 24,
   "id": "30d28f34-a291-4c47-b813-b9fa333ec7f4",
   "metadata": {},
   "outputs": [
    {
     "data": {
      "text/plain": [
       "str"
      ]
     },
     "execution_count": 24,
     "metadata": {},
     "output_type": "execute_result"
    }
   ],
   "source": [
    "type(name)"
   ]
  },
  {
   "cell_type": "code",
   "execution_count": 25,
   "id": "290c3f66-d787-49a6-b7a9-9c64efe511ed",
   "metadata": {},
   "outputs": [
    {
     "data": {
      "text/plain": [
       "str"
      ]
     },
     "execution_count": 25,
     "metadata": {},
     "output_type": "execute_result"
    }
   ],
   "source": [
    "type(name2)"
   ]
  },
  {
   "cell_type": "code",
   "execution_count": 26,
   "id": "26821355-5bd6-4333-a3fb-4fed6987a35c",
   "metadata": {},
   "outputs": [
    {
     "name": "stdout",
     "output_type": "stream",
     "text": [
      "zeba ansari\n"
     ]
    }
   ],
   "source": [
    "fullname='zeba ansari'\n",
    "\n",
    "print(fullname)"
   ]
  },
  {
   "cell_type": "code",
   "execution_count": null,
   "id": "88288474-1919-4d1b-bdae-c78d4ae6f862",
   "metadata": {},
   "outputs": [],
   "source": [
    "#req: to cprrect the format"
   ]
  },
  {
   "cell_type": "code",
   "execution_count": 27,
   "id": "e57b2cfd-cb72-4ffb-95d2-f8af18a7c7c3",
   "metadata": {},
   "outputs": [
    {
     "name": "stdout",
     "output_type": "stream",
     "text": [
      "Zeba Ansari\n"
     ]
    }
   ],
   "source": [
    "print(fullname.title())"
   ]
  },
  {
   "cell_type": "code",
   "execution_count": null,
   "id": "c2088779-a355-44c1-86f8-5cd305bc5576",
   "metadata": {},
   "outputs": [],
   "source": [
    "#req: i want the entire name in capital case:"
   ]
  },
  {
   "cell_type": "code",
   "execution_count": 28,
   "id": "8d6da2e4-49a1-42a1-8ae0-5b66dd1dfb4c",
   "metadata": {},
   "outputs": [
    {
     "name": "stdout",
     "output_type": "stream",
     "text": [
      "ZEBA ANSARI\n"
     ]
    }
   ],
   "source": [
    "print(fullname.upper())"
   ]
  },
  {
   "cell_type": "code",
   "execution_count": null,
   "id": "3075f87e-da25-40e5-80b2-b2f1b73af178",
   "metadata": {},
   "outputs": [],
   "source": [
    "# i want the entire name in small case:"
   ]
  },
  {
   "cell_type": "code",
   "execution_count": 29,
   "id": "77d0266a-caf4-4c62-956d-9a65ef465671",
   "metadata": {},
   "outputs": [
    {
     "name": "stdout",
     "output_type": "stream",
     "text": [
      "zeba ansari\n"
     ]
    }
   ],
   "source": [
    "print(fullname.lower())"
   ]
  },
  {
   "cell_type": "code",
   "execution_count": null,
   "id": "e3fd5679-01c6-443f-8f86-1301f945f7c0",
   "metadata": {},
   "outputs": [],
   "source": []
  }
 ],
 "metadata": {
  "kernelspec": {
   "display_name": "Python [conda env:base] *",
   "language": "python",
   "name": "conda-base-py"
  },
  "language_info": {
   "codemirror_mode": {
    "name": "ipython",
    "version": 3
   },
   "file_extension": ".py",
   "mimetype": "text/x-python",
   "name": "python",
   "nbconvert_exporter": "python",
   "pygments_lexer": "ipython3",
   "version": "3.13.5"
  }
 },
 "nbformat": 4,
 "nbformat_minor": 5
}

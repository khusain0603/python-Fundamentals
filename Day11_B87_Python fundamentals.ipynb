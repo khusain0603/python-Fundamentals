{
 "cells": [
  {
   "cell_type": "code",
   "execution_count": null,
   "id": "01c00863-93a0-43e3-b676-75a152d3eb95",
   "metadata": {},
   "outputs": [],
   "source": [
    "introduction to python  classes"
   ]
  },
  {
   "cell_type": "code",
   "execution_count": null,
   "id": "02c6d3c0-c4c4-4e4b-b49b-976b7a394e4a",
   "metadata": {},
   "outputs": [],
   "source": [
    "class==> class is a high level blueprint\n",
    "attributes===> a variable written inside a class\n",
    "methods===> a function written inside a class\n",
    "objects/instances===> is an approach by using  which we can be able to acess the class methods\n",
    "self===> it is a temporary place holder  for an object\n",
    "init===> it is a special method\n"
   ]
  },
  {
   "cell_type": "code",
   "execution_count": null,
   "id": "30944e9b-dc57-4917-8579-ba07634c3311",
   "metadata": {},
   "outputs": [],
   "source": []
  },
  {
   "cell_type": "code",
   "execution_count": null,
   "id": "53243af9-eb2c-45c7-b04a-8036c4e86285",
   "metadata": {},
   "outputs": [],
   "source": [
    "what are OOPS: objected oriented  programming:"
   ]
  },
  {
   "cell_type": "code",
   "execution_count": null,
   "id": "e8e7967e-a5d5-49ab-9ec3-26e2d6c98e37",
   "metadata": {},
   "outputs": [],
   "source": [
    "# class example# req:  design a dog class with its functionality "
   ]
  },
  {
   "cell_type": "code",
   "execution_count": null,
   "id": "af78eaee-c4b4-4d58-beda-91830575b5c0",
   "metadata": {},
   "outputs": [],
   "source": []
  },
  {
   "cell_type": "code",
   "execution_count": 7,
   "id": "48bac398-8a97-46b4-ad1a-be1d216b15fc",
   "metadata": {},
   "outputs": [],
   "source": [
    "class Dog: # this is a class declaration\n",
    "    \"\"\" A simple nattempt to model the Dog\"\"\"\n",
    "\n",
    "    def __init__(self,name,age): # this is a method\n",
    "        \"\"\"initiate name and age attributes\"\"\"\n",
    "        self.name=name\n",
    "        self.age=age\n",
    "\n",
    "    def sit(self):# this is a method\n",
    "        \"\"\" simulate a dog sitting in response to a command\"\"\"\n",
    "        print(f\" {self.name} is no sitting\")\n",
    "    def roll_over (self): # this is a methid\n",
    "        \"\"\" simulate rolling ober in a response\"\"\"\n",
    "        print(f\"{self.name} rolled over\")"
   ]
  },
  {
   "cell_type": "code",
   "execution_count": 8,
   "id": "288bec7f-a191-4b30-b43f-3318ef1b510b",
   "metadata": {},
   "outputs": [
    {
     "name": "stdout",
     "output_type": "stream",
     "text": [
      " Bruno is no sitting\n"
     ]
    }
   ],
   "source": [
    "my_dog = Dog('Bruno', 6)\n",
    "my_dog.sit()"
   ]
  },
  {
   "cell_type": "code",
   "execution_count": 9,
   "id": "6d6af3e2-eb0c-434d-8796-e8e958d8298b",
   "metadata": {},
   "outputs": [
    {
     "name": "stdout",
     "output_type": "stream",
     "text": [
      "Bruno rolled over\n"
     ]
    }
   ],
   "source": [
    "my_dog.roll_over()"
   ]
  },
  {
   "cell_type": "code",
   "execution_count": 10,
   "id": "70f45dea-e12a-44cd-8fb6-48689e431b20",
   "metadata": {},
   "outputs": [
    {
     "name": "stdout",
     "output_type": "stream",
     "text": [
      " rex is no sitting\n"
     ]
    }
   ],
   "source": [
    "test=Dog('rex',3)\n",
    "test.sit()"
   ]
  },
  {
   "cell_type": "code",
   "execution_count": null,
   "id": "3321f170-a42e-45e3-a55c-f082cca81ec2",
   "metadata": {},
   "outputs": [],
   "source": []
  },
  {
   "cell_type": "code",
   "execution_count": 18,
   "id": "6a232a09-03d5-4028-a157-57de48e3338e",
   "metadata": {},
   "outputs": [],
   "source": [
    "class Car:\n",
    "    \"\"\" A simple attepnt to represent a car\"\"\"\n",
    "    def __init__(self, make, model, year):\n",
    "        \"\"\"initialize the attributes to describe the car\"\"\"\n",
    "        self.make = make\n",
    "        self.model = model\n",
    "        self.year = year\n",
    "\n",
    "    def get_description_name(self):\n",
    "        \"\"\"retirn a neatly formatted descriptive name\"\"\"\n",
    "        long_name = f\"{self.make} {self.model} {self.year}\"  # Fixed extra quote at the end\n",
    "        return long_name.title()\n",
    "    "
   ]
  },
  {
   "cell_type": "code",
   "execution_count": 19,
   "id": "63549d03-8795-4f27-8e4f-09d5a4e55ec2",
   "metadata": {},
   "outputs": [
    {
     "name": "stdout",
     "output_type": "stream",
     "text": [
      "Audi A4 2020\n"
     ]
    }
   ],
   "source": [
    "my_new_car=Car('audi','a4',2020)\n",
    "print(my_new_car.get_description_name())"
   ]
  },
  {
   "cell_type": "code",
   "execution_count": null,
   "id": "5838153c-fa74-4d22-ac4a-7189434faf15",
   "metadata": {},
   "outputs": [],
   "source": []
  },
  {
   "cell_type": "code",
   "execution_count": null,
   "id": "54fd2a59-1ddd-4f6b-a2b3-0ee7fd47c8db",
   "metadata": {},
   "outputs": [],
   "source": []
  },
  {
   "cell_type": "code",
   "execution_count": null,
   "id": "dc1d24b6-af0b-4868-9b9c-e942bae0d46a",
   "metadata": {},
   "outputs": [],
   "source": []
  }
 ],
 "metadata": {
  "kernelspec": {
   "display_name": "Python [conda env:base] *",
   "language": "python",
   "name": "conda-base-py"
  },
  "language_info": {
   "codemirror_mode": {
    "name": "ipython",
    "version": 3
   },
   "file_extension": ".py",
   "mimetype": "text/x-python",
   "name": "python",
   "nbconvert_exporter": "python",
   "pygments_lexer": "ipython3",
   "version": "3.13.5"
  }
 },
 "nbformat": 4,
 "nbformat_minor": 5
}

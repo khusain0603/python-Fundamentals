{
 "cells": [
  {
   "cell_type": "code",
   "execution_count": null,
   "id": "f1a1536e-519b-41ec-aa78-918fb937dc40",
   "metadata": {},
   "outputs": [],
   "source": []
  },
  {
   "cell_type": "code",
   "execution_count": null,
   "id": "eebd0de6-2657-4b64-a41c-08e25a70a562",
   "metadata": {},
   "outputs": [],
   "source": [
    "Organizing the list datatype:"
   ]
  },
  {
   "cell_type": "code",
   "execution_count": 6,
   "id": "5405d0ee-19fa-4ec4-bb2a-6a8a140b4589",
   "metadata": {},
   "outputs": [
    {
     "name": "stdout",
     "output_type": "stream",
     "text": [
      "['bmw', 'tata', 'suzuki', 'audi', 'toyota', 'benz']\n"
     ]
    }
   ],
   "source": [
    "cars=['bmw','tata','suzuki','audi','toyota','benz']\n",
    "\n",
    "print(cars)\n",
    "      "
   ]
  },
  {
   "cell_type": "code",
   "execution_count": 7,
   "id": "4dbde8d9-6d9f-4634-9ff5-2e588409e0dc",
   "metadata": {},
   "outputs": [
    {
     "data": {
      "text/plain": [
       "list"
      ]
     },
     "execution_count": 7,
     "metadata": {},
     "output_type": "execute_result"
    }
   ],
   "source": [
    "type(cars)"
   ]
  },
  {
   "cell_type": "code",
   "execution_count": null,
   "id": "03c27120-ae2d-45de-a46f-a2c172edbfb9",
   "metadata": {},
   "outputs": [],
   "source": [
    "#req: i want to organizse list in alphabetical order.."
   ]
  },
  {
   "cell_type": "code",
   "execution_count": null,
   "id": "10a20dc6-1d0f-446c-8fc9-061e5501e85b",
   "metadata": {},
   "outputs": [],
   "source": [
    "A,B,C,D"
   ]
  },
  {
   "cell_type": "code",
   "execution_count": null,
   "id": "d0bd25dc-bfe5-4e63-bac1-fe28c57de145",
   "metadata": {},
   "outputs": [],
   "source": [
    "there are 2 approaches \n",
    "    1.temporary approach===>sorted method==>we will be able to get the original order deifned\n",
    "    permanent approach===> sort method"
   ]
  },
  {
   "cell_type": "code",
   "execution_count": 8,
   "id": "370382ae-6a83-4020-ac3d-f8ca35ec1fce",
   "metadata": {},
   "outputs": [
    {
     "name": "stdout",
     "output_type": "stream",
     "text": [
      "['audi', 'benz', 'bmw', 'suzuki', 'tata', 'toyota']\n"
     ]
    }
   ],
   "source": [
    "print(sorted(cars))"
   ]
  },
  {
   "cell_type": "code",
   "execution_count": null,
   "id": "3315037d-d255-4577-89cc-8a067462accc",
   "metadata": {},
   "outputs": [],
   "source": []
  },
  {
   "cell_type": "code",
   "execution_count": null,
   "id": "a4ba3341-266a-434f-aae9-c399d6a1d606",
   "metadata": {},
   "outputs": [],
   "source": [
    "interview question: what is the difference between sorted and sort method in a list datatype?"
   ]
  },
  {
   "cell_type": "code",
   "execution_count": null,
   "id": "60af3f98-7d81-47cf-a408-f30b7a25280d",
   "metadata": {},
   "outputs": [],
   "source": []
  },
  {
   "cell_type": "code",
   "execution_count": null,
   "id": "36448876-0731-4279-bff0-c2e0c8595d80",
   "metadata": {},
   "outputs": [],
   "source": [
    "#i want to counut the no of  elements in the list"
   ]
  },
  {
   "cell_type": "code",
   "execution_count": 9,
   "id": "346d56ea-5148-4862-ad6a-6f0c0ba5a4d3",
   "metadata": {},
   "outputs": [
    {
     "data": {
      "text/plain": [
       "6"
      ]
     },
     "execution_count": 9,
     "metadata": {},
     "output_type": "execute_result"
    }
   ],
   "source": [
    "len(cars)"
   ]
  },
  {
   "cell_type": "code",
   "execution_count": null,
   "id": "1fbcb671-adfd-4d04-91e6-76c3703dce9b",
   "metadata": {},
   "outputs": [],
   "source": [
    "#req: i want to print the list in A-Z.Z-A"
   ]
  },
  {
   "cell_type": "code",
   "execution_count": null,
   "id": "7da8958e-61f1-4b24-9269-231b91fdb618",
   "metadata": {},
   "outputs": [],
   "source": [
    "cars.reverse()"
   ]
  },
  {
   "cell_type": "code",
   "execution_count": 10,
   "id": "f5b46229-81d4-4dd6-9aa2-98754dff27a4",
   "metadata": {},
   "outputs": [
    {
     "name": "stdout",
     "output_type": "stream",
     "text": [
      "['bmw', 'tata', 'suzuki', 'audi', 'toyota', 'benz']\n"
     ]
    }
   ],
   "source": [
    "print(cars)"
   ]
  },
  {
   "cell_type": "code",
   "execution_count": null,
   "id": "159bc884-c3f1-474f-9ce0-34081a88d735",
   "metadata": {},
   "outputs": [],
   "source": [
    "cars.reverse()"
   ]
  },
  {
   "cell_type": "code",
   "execution_count": 11,
   "id": "413f250b-e44e-476e-818a-fa7b7c4f1b81",
   "metadata": {},
   "outputs": [
    {
     "name": "stdout",
     "output_type": "stream",
     "text": [
      "['bmw', 'tata', 'suzuki', 'audi', 'toyota', 'benz']\n"
     ]
    }
   ],
   "source": [
    "print(cars)"
   ]
  },
  {
   "cell_type": "code",
   "execution_count": null,
   "id": "d1251307-71c4-4a59-ad9d-0ec3d084bf60",
   "metadata": {},
   "outputs": [],
   "source": [
    "# is used for ommenting the  code"
   ]
  },
  {
   "cell_type": "code",
   "execution_count": null,
   "id": "1b2168b2-984f-4ffb-a44d-9549db293c10",
   "metadata": {},
   "outputs": [],
   "source": []
  },
  {
   "cell_type": "code",
   "execution_count": null,
   "id": "02905fbb-b4c3-4b45-900c-bb6fbffd805a",
   "metadata": {},
   "outputs": [],
   "source": [
    "introduing to slicing:"
   ]
  },
  {
   "cell_type": "code",
   "execution_count": 13,
   "id": "9c3db67a-7a21-4561-bfe2-9bbc954b6e6c",
   "metadata": {},
   "outputs": [
    {
     "name": "stdout",
     "output_type": "stream",
     "text": [
      "['anika', 'arpita', 'bhusan', 'bhanu', 'chandra', 'cynthya', 'danish']\n"
     ]
    }
   ],
   "source": [
    "students=['anika','arpita','bhusan','bhanu','chandra','cynthya','danish']\n",
    "print(students)"
   ]
  },
  {
   "cell_type": "code",
   "execution_count": null,
   "id": "fb9e1eb9-59bf-4fe5-8cef-7f9b0c8b9c74",
   "metadata": {},
   "outputs": [],
   "source": []
  },
  {
   "cell_type": "code",
   "execution_count": null,
   "id": "5b14ec31-57d0-43d9-b92d-0d6c6417fe57",
   "metadata": {},
   "outputs": [],
   "source": [
    "#general syntax for slicing:"
   ]
  },
  {
   "cell_type": "code",
   "execution_count": null,
   "id": "0fbc80c5-a12a-4a52-9cd6-2667ecd9e435",
   "metadata": {},
   "outputs": [],
   "source": [
    "formula [start_value:stop_value:step count]"
   ]
  },
  {
   "cell_type": "code",
   "execution_count": null,
   "id": "74272f77-3b63-4153-ac6e-a5c9ab7275f2",
   "metadata": {},
   "outputs": [],
   "source": [
    "Note: stop is always exclusive , to include the stop value increment the indexx by +1"
   ]
  },
  {
   "cell_type": "code",
   "execution_count": null,
   "id": "bb2846fd-54bf-401b-a33a-a08a6b5468a1",
   "metadata": {},
   "outputs": [],
   "source": []
  },
  {
   "cell_type": "code",
   "execution_count": null,
   "id": "54077ec2-6cdb-408c-aa94-4d7e72379090",
   "metadata": {},
   "outputs": [],
   "source": [
    "#req: i want to include anika and arpita in the slice."
   ]
  },
  {
   "cell_type": "code",
   "execution_count": 14,
   "id": "265b9df5-21c9-47e8-bb33-e223635f37fc",
   "metadata": {},
   "outputs": [
    {
     "name": "stdout",
     "output_type": "stream",
     "text": [
      "['anika']\n"
     ]
    }
   ],
   "source": [
    "print(students[0:1])"
   ]
  },
  {
   "cell_type": "code",
   "execution_count": 15,
   "id": "96e2062e-4de0-4a05-b744-e312388b6fbb",
   "metadata": {},
   "outputs": [
    {
     "name": "stdout",
     "output_type": "stream",
     "text": [
      "['anika', 'arpita']\n"
     ]
    }
   ],
   "source": [
    "print(students[0:2])"
   ]
  },
  {
   "cell_type": "code",
   "execution_count": null,
   "id": "799d6a1d-a4f1-4e83-8d61-04ba9bf3d198",
   "metadata": {},
   "outputs": [],
   "source": [
    "# req: Bhushan and Bhanu"
   ]
  },
  {
   "cell_type": "code",
   "execution_count": 16,
   "id": "6228955c-e89a-4266-9e51-87ee9f66d633",
   "metadata": {},
   "outputs": [
    {
     "name": "stdout",
     "output_type": "stream",
     "text": [
      "['bhusan', 'bhanu']\n"
     ]
    }
   ],
   "source": [
    "print(students[2:4])"
   ]
  },
  {
   "cell_type": "code",
   "execution_count": null,
   "id": "12e0ff0f-bbe5-47dd-8f47-660d5a36812e",
   "metadata": {},
   "outputs": [],
   "source": []
  },
  {
   "cell_type": "code",
   "execution_count": 17,
   "id": "209429fa-70ce-4f36-b52c-7a05304abc89",
   "metadata": {},
   "outputs": [
    {
     "name": "stdout",
     "output_type": "stream",
     "text": [
      "['anika', 'bhusan', 'chandra', 'danish']\n"
     ]
    }
   ],
   "source": [
    "print(students[0:7:2])"
   ]
  },
  {
   "cell_type": "code",
   "execution_count": 18,
   "id": "0b6b494b-d58a-479b-96c1-d1c7d2e8ac9a",
   "metadata": {},
   "outputs": [
    {
     "name": "stdout",
     "output_type": "stream",
     "text": [
      "['anika', 'arpita', 'bhusan', 'bhanu', 'chandra', 'cynthya', 'danish']\n"
     ]
    }
   ],
   "source": [
    "print(students)"
   ]
  },
  {
   "cell_type": "code",
   "execution_count": null,
   "id": "7aba86ab-575a-4b50-8d45-e515d228c731",
   "metadata": {},
   "outputs": [],
   "source": []
  },
  {
   "cell_type": "code",
   "execution_count": null,
   "id": "804186f3-53d4-416a-abea-a9b5d080a6eb",
   "metadata": {},
   "outputs": [],
   "source": [
    "introduction to tuple datatype:"
   ]
  },
  {
   "cell_type": "code",
   "execution_count": null,
   "id": "162f3e61-533b-48ad-80d7-59de48fbfaa7",
   "metadata": {},
   "outputs": [],
   "source": [
    "defination: An imutable list is called as a tuple\n",
    "\n",
    "classification: It is  classified d as an immutable datatype\n",
    "how to define the tuple datatype:()"
   ]
  },
  {
   "cell_type": "code",
   "execution_count": null,
   "id": "de1b9be6-bee0-475b-8138-f18d05167a21",
   "metadata": {},
   "outputs": [],
   "source": []
  },
  {
   "cell_type": "code",
   "execution_count": 20,
   "id": "2b9cf1c9-f070-43b3-8893-066a1b1a57fd",
   "metadata": {},
   "outputs": [
    {
     "name": "stdout",
     "output_type": "stream",
     "text": [
      "(20, 50)\n"
     ]
    }
   ],
   "source": [
    "dimension=(20,50)\n",
    "print(dimension)"
   ]
  },
  {
   "cell_type": "code",
   "execution_count": 22,
   "id": "bdd3de14-3ba5-402c-89e6-85ace2d0ba56",
   "metadata": {},
   "outputs": [
    {
     "data": {
      "text/plain": [
       "tuple"
      ]
     },
     "execution_count": 22,
     "metadata": {},
     "output_type": "execute_result"
    }
   ],
   "source": [
    "type(dimension)"
   ]
  },
  {
   "cell_type": "code",
   "execution_count": null,
   "id": "67d96419-7299-46ab-bdc9-97e360d674be",
   "metadata": {},
   "outputs": [],
   "source": [
    "dimension[0]=30"
   ]
  },
  {
   "cell_type": "code",
   "execution_count": 23,
   "id": "4ae8b3fb-5b76-4478-9dbd-c8acac6964d2",
   "metadata": {},
   "outputs": [
    {
     "name": "stdout",
     "output_type": "stream",
     "text": [
      "50\n"
     ]
    }
   ],
   "source": [
    "print(dimension[1])"
   ]
  },
  {
   "cell_type": "code",
   "execution_count": null,
   "id": "380b5311-c060-43ad-a66e-cfc6c67c506f",
   "metadata": {},
   "outputs": [],
   "source": []
  }
 ],
 "metadata": {
  "kernelspec": {
   "display_name": "Python [conda env:base] *",
   "language": "python",
   "name": "conda-base-py"
  },
  "language_info": {
   "codemirror_mode": {
    "name": "ipython",
    "version": 3
   },
   "file_extension": ".py",
   "mimetype": "text/x-python",
   "name": "python",
   "nbconvert_exporter": "python",
   "pygments_lexer": "ipython3",
   "version": "3.13.5"
  }
 },
 "nbformat": 4,
 "nbformat_minor": 5
}

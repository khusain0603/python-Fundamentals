{
 "cells": [
  {
   "cell_type": "code",
   "execution_count": null,
   "id": "58b19f07-629c-4d17-9330-e23d3d3d94ee",
   "metadata": {},
   "outputs": [],
   "source": [
    "introduction to python functions:"
   ]
  },
  {
   "cell_type": "code",
   "execution_count": null,
   "id": "d115a3c8-b47e-4930-90df-a783482f1660",
   "metadata": {},
   "outputs": [],
   "source": [
    "how to define a function: def\n",
    "\n",
    "for giving a function name use small case letters"
   ]
  },
  {
   "cell_type": "code",
   "execution_count": null,
   "id": "5261acbc-40b5-4916-9e90-11cdbfb9fbe9",
   "metadata": {},
   "outputs": [],
   "source": []
  },
  {
   "cell_type": "code",
   "execution_count": 1,
   "id": "c26d209e-e829-4195-a9eb-beb62af7c0d9",
   "metadata": {},
   "outputs": [],
   "source": [
    "def greet(): # this part is called as  definef the function\n",
    "    \"\"\"this function will greet the user\"\"\" # this is doc string\n",
    "    print(\"Hello\")"
   ]
  },
  {
   "cell_type": "code",
   "execution_count": 2,
   "id": "6dfea212-e189-428a-aa2a-df10cde25cfa",
   "metadata": {},
   "outputs": [
    {
     "name": "stdout",
     "output_type": "stream",
     "text": [
      "Hello\n"
     ]
    }
   ],
   "source": [
    "greet() # function call"
   ]
  },
  {
   "cell_type": "code",
   "execution_count": 5,
   "id": "123ebd0b-05a9-4f48-9b76-c2cbe5394c4e",
   "metadata": {},
   "outputs": [],
   "source": [
    "def greet_user():\n",
    "    \"\"\"display a simple greeting\"\"\"\n",
    "    print(\"Hello\")\n",
    "    greet_user()\n",
    "    "
   ]
  },
  {
   "cell_type": "code",
   "execution_count": null,
   "id": "f076b924-de38-46a7-888b-80e73e1958fb",
   "metadata": {},
   "outputs": [],
   "source": []
  },
  {
   "cell_type": "code",
   "execution_count": null,
   "id": "3cedd1a8-a390-459f-9814-77ce427434d9",
   "metadata": {},
   "outputs": [],
   "source": []
  },
  {
   "cell_type": "code",
   "execution_count": null,
   "id": "f4e0c430-a6e2-471c-9f58-f30afe8dd459",
   "metadata": {},
   "outputs": [],
   "source": [
    "def greet_user(username): #parameters declaration #params\n",
    "    \"\"\"Display a simple greeting\"\"\"\n",
    "    print(f\"Hello,{username.title()}\")\n",
    "    "
   ]
  },
  {
   "cell_type": "code",
   "execution_count": 7,
   "id": "a5feffec-52e8-4db2-9ab4-2895d69e0998",
   "metadata": {},
   "outputs": [
    {
     "ename": "TypeError",
     "evalue": "greet_user() takes 0 positional arguments but 1 was given",
     "output_type": "error",
     "traceback": [
      "\u001b[1;31m---------------------------------------------------------------------------\u001b[0m",
      "\u001b[1;31mTypeError\u001b[0m                                 Traceback (most recent call last)",
      "Cell \u001b[1;32mIn[7], line 1\u001b[0m\n\u001b[1;32m----> 1\u001b[0m greet_user(\u001b[38;5;124m'\u001b[39m\u001b[38;5;124manil\u001b[39m\u001b[38;5;124m'\u001b[39m)\n",
      "\u001b[1;31mTypeError\u001b[0m: greet_user() takes 0 positional arguments but 1 was given"
     ]
    }
   ],
   "source": [
    "greet_user('anil') # arguments passing #args"
   ]
  },
  {
   "cell_type": "code",
   "execution_count": null,
   "id": "e4f641ed-9605-466c-8dc6-431256eb2d2b",
   "metadata": {},
   "outputs": [],
   "source": []
  },
  {
   "cell_type": "code",
   "execution_count": null,
   "id": "99a56a79-aaf4-4ec3-91ed-bb38a9d1c40f",
   "metadata": {},
   "outputs": [],
   "source": []
  },
  {
   "cell_type": "code",
   "execution_count": null,
   "id": "421f1247-c9a5-4a9f-87ce-33f41c7626e4",
   "metadata": {},
   "outputs": [],
   "source": [
    "types of arguments:\n",
    "    1 positional arguments\n",
    "    2 keyword arguments\n",
    "    3 arbitary arguments"
   ]
  },
  {
   "cell_type": "code",
   "execution_count": null,
   "id": "8d4a822c-bd57-4606-a02c-30a8147d3fa1",
   "metadata": {},
   "outputs": [],
   "source": []
  },
  {
   "cell_type": "code",
   "execution_count": null,
   "id": "707e5259-d943-4341-b5d2-28d7eb2cd556",
   "metadata": {},
   "outputs": [],
   "source": [
    "#Define the function:\n",
    "\n",
    "#req: define a function with name describe_pet which takes two parameters: pet_name and animal_type"
   ]
  },
  {
   "cell_type": "code",
   "execution_count": 9,
   "id": "f87f5462-487e-408e-a94e-6a1355d3fbba",
   "metadata": {},
   "outputs": [],
   "source": [
    "def describe_pet(animal_type,pet_name):\n",
    "    \"\"\"desribe the information about the pet\"\"\"\n",
    "    print(f\"my i have a {animal_type}\")\n",
    "    print(f\"my {animal_type}'s name is {pet_name}\")"
   ]
  },
  {
   "cell_type": "code",
   "execution_count": 10,
   "id": "0ba22950-091e-430c-bac3-acda6c41d422",
   "metadata": {},
   "outputs": [
    {
     "name": "stdout",
     "output_type": "stream",
     "text": [
      "my i have a dog\n",
      "my dog's name is bruno\n"
     ]
    }
   ],
   "source": [
    "describe_pet('dog','bruno')"
   ]
  },
  {
   "cell_type": "code",
   "execution_count": 11,
   "id": "ed48d1a1-1fec-4834-9e8c-3726d0e801d6",
   "metadata": {},
   "outputs": [
    {
     "name": "stdout",
     "output_type": "stream",
     "text": [
      "my i have a cat\n",
      "my cat's name is rex\n"
     ]
    }
   ],
   "source": [
    "describe_pet('cat','rex')"
   ]
  },
  {
   "cell_type": "code",
   "execution_count": 12,
   "id": "b17ce520-487d-47b6-ac72-aa9d352b6acd",
   "metadata": {},
   "outputs": [
    {
     "name": "stdout",
     "output_type": "stream",
     "text": [
      "my i have a sweety\n",
      "my sweety's name is parrot\n"
     ]
    }
   ],
   "source": [
    "describe_pet('sweety','parrot')"
   ]
  },
  {
   "cell_type": "code",
   "execution_count": 13,
   "id": "1f72a3a2-0065-4290-85ad-d8fc25f3fcd7",
   "metadata": {},
   "outputs": [
    {
     "name": "stdout",
     "output_type": "stream",
     "text": [
      "my i have a parrot\n",
      "my parrot's name is sweety\n"
     ]
    }
   ],
   "source": [
    "describe_pet('parrot','sweety') #positinal arguments"
   ]
  },
  {
   "cell_type": "code",
   "execution_count": 14,
   "id": "f3286677-b219-4f84-ac01-ae25b3bc8f7d",
   "metadata": {},
   "outputs": [
    {
     "name": "stdout",
     "output_type": "stream",
     "text": [
      "my i have a parrot\n",
      "my parrot's name is sweety\n"
     ]
    }
   ],
   "source": [
    "describe_pet(pet_name='sweety',animal_type='parrot') #keyword parameter"
   ]
  },
  {
   "cell_type": "code",
   "execution_count": null,
   "id": "001e4e59-b6b9-4a28-b8f8-e60433b64a85",
   "metadata": {},
   "outputs": [],
   "source": []
  }
 ],
 "metadata": {
  "kernelspec": {
   "display_name": "Python [conda env:base] *",
   "language": "python",
   "name": "conda-base-py"
  },
  "language_info": {
   "codemirror_mode": {
    "name": "ipython",
    "version": 3
   },
   "file_extension": ".py",
   "mimetype": "text/x-python",
   "name": "python",
   "nbconvert_exporter": "python",
   "pygments_lexer": "ipython3",
   "version": "3.13.5"
  }
 },
 "nbformat": 4,
 "nbformat_minor": 5
}

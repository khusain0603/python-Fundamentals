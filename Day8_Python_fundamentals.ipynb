{
 "cells": [
  {
   "cell_type": "code",
   "execution_count": null,
   "id": "8235fe28-1b2a-47db-ad60-64fc91187a25",
   "metadata": {},
   "outputs": [],
   "source": [
    "introductional to conditional statements:"
   ]
  },
  {
   "cell_type": "code",
   "execution_count": null,
   "id": "e684fa63-f945-4a4e-aa84-dd1482f89e04",
   "metadata": {},
   "outputs": [],
   "source": [
    "if statements:"
   ]
  },
  {
   "cell_type": "code",
   "execution_count": 2,
   "id": "a9428b98-5f78-4059-97f1-b11ecf08f1f1",
   "metadata": {},
   "outputs": [
    {
     "name": "stdout",
     "output_type": "stream",
     "text": [
      "['audi', 'bmw', 'hyundai', 'toyota', 'kia', 'suzuki', 'maruti']\n"
     ]
    }
   ],
   "source": [
    "cars=['audi','bmw','hyundai','toyota','kia','suzuki','maruti']\n",
    "print(cars)"
   ]
  },
  {
   "cell_type": "code",
   "execution_count": 3,
   "id": "22452946-3636-42ca-b604-d238b56fcf66",
   "metadata": {},
   "outputs": [
    {
     "data": {
      "text/plain": [
       "list"
      ]
     },
     "execution_count": 3,
     "metadata": {},
     "output_type": "execute_result"
    }
   ],
   "source": [
    "type(cars)"
   ]
  },
  {
   "cell_type": "code",
   "execution_count": null,
   "id": "99012201-ccc1-48b0-84a9-9681283bb95b",
   "metadata": {},
   "outputs": [],
   "source": [
    "#req: i want  to get suzuki incapital letter and rest all the cars should e printed in title case,,"
   ]
  },
  {
   "cell_type": "code",
   "execution_count": 4,
   "id": "a0870b71-6b68-409f-b0f7-b0526c02ad6a",
   "metadata": {},
   "outputs": [
    {
     "name": "stdout",
     "output_type": "stream",
     "text": [
      "Audi\n",
      "Bmw\n",
      "Hyundai\n",
      "Toyota\n",
      "Kia\n",
      "SUZUKI\n",
      "Maruti\n"
     ]
    }
   ],
   "source": [
    "for a in cars:\n",
    "    if a=='suzuki':\n",
    "        print(a.upper())\n",
    "    else:\n",
    "        print(a.title())"
   ]
  },
  {
   "cell_type": "code",
   "execution_count": null,
   "id": "24885b91-dde1-40fd-97e1-5597b91fb45a",
   "metadata": {},
   "outputs": [],
   "source": [
    "#req: building an voting application.."
   ]
  },
  {
   "cell_type": "code",
   "execution_count": 8,
   "id": "8eccee19-f823-423a-94cd-192fa7f48f91",
   "metadata": {},
   "outputs": [
    {
     "data": {
      "text/plain": [
       "int"
      ]
     },
     "execution_count": 8,
     "metadata": {},
     "output_type": "execute_result"
    }
   ],
   "source": [
    "age=17\n",
    "type(age)"
   ]
  },
  {
   "cell_type": "code",
   "execution_count": 9,
   "id": "792876d0-a38d-45a4-a3aa-9a2a326aa39c",
   "metadata": {},
   "outputs": [
    {
     "name": "stdout",
     "output_type": "stream",
     "text": [
      "you are not eligible to vote, try next year\n"
     ]
    }
   ],
   "source": [
    "if age>= 18:\n",
    "    print(\"you are eligible to vote\")\n",
    "else:\n",
    "    print(\"you are not eligible to vote, try next year\")"
   ]
  },
  {
   "cell_type": "code",
   "execution_count": null,
   "id": "e66a479d-9167-4ffb-b999-298224c8e962",
   "metadata": {},
   "outputs": [],
   "source": []
  },
  {
   "cell_type": "code",
   "execution_count": null,
   "id": "776770fb-1cfd-4fb4-ac32-f696fa6f0db2",
   "metadata": {},
   "outputs": [],
   "source": [
    "unbderstanding the concept of user input:"
   ]
  },
  {
   "cell_type": "code",
   "execution_count": 10,
   "id": "98436216-723f-491e-ad0c-a949cbd22031",
   "metadata": {},
   "outputs": [
    {
     "name": "stdin",
     "output_type": "stream",
     "text": [
      "Tell me something and i will repeat it back  for you hi i am khalil\n"
     ]
    },
    {
     "name": "stdout",
     "output_type": "stream",
     "text": [
      "hi i am khalil\n"
     ]
    }
   ],
   "source": [
    "message=input(\"Tell me something and i will repeat it back  for you\")\n",
    "print(message)"
   ]
  },
  {
   "cell_type": "code",
   "execution_count": null,
   "id": "17d76e97-4571-4fa1-84ad-2b5e17cf58b9",
   "metadata": {},
   "outputs": [],
   "source": [
    "#i want to greet the user based on the input."
   ]
  },
  {
   "cell_type": "code",
   "execution_count": 11,
   "id": "ea7743d2-6cfe-4112-92ad-3b9a48f28b1d",
   "metadata": {},
   "outputs": [
    {
     "name": "stdin",
     "output_type": "stream",
     "text": [
      "please enter your  name: khalil\n"
     ]
    },
    {
     "name": "stdout",
     "output_type": "stream",
     "text": [
      "nHello,khalil\n"
     ]
    }
   ],
   "source": [
    "name=input(\"please enter your  name:\")\n",
    "\n",
    "print(f\"nHello,{name}\")"
   ]
  },
  {
   "cell_type": "code",
   "execution_count": 12,
   "id": "d0e89a03-5a90-4bf4-a546-0b4d8bf51bd2",
   "metadata": {},
   "outputs": [
    {
     "name": "stdin",
     "output_type": "stream",
     "text": [
      "how old are you? 6\n"
     ]
    },
    {
     "ename": "TypeError",
     "evalue": "'>=' not supported between instances of 'str' and 'int'",
     "output_type": "error",
     "traceback": [
      "\u001b[1;31m---------------------------------------------------------------------------\u001b[0m",
      "\u001b[1;31mTypeError\u001b[0m                                 Traceback (most recent call last)",
      "Cell \u001b[1;32mIn[12], line 2\u001b[0m\n\u001b[0;32m      1\u001b[0m age\u001b[38;5;241m=\u001b[39m\u001b[38;5;28minput\u001b[39m(\u001b[38;5;124m\"\u001b[39m\u001b[38;5;124mhow old are you?\u001b[39m\u001b[38;5;124m\"\u001b[39m)\n\u001b[1;32m----> 2\u001b[0m \u001b[38;5;28;01mif\u001b[39;00m age\u001b[38;5;241m>\u001b[39m\u001b[38;5;241m=\u001b[39m\u001b[38;5;241m18\u001b[39m:\n\u001b[0;32m      3\u001b[0m     \u001b[38;5;28mprint\u001b[39m(\u001b[38;5;124m\"\u001b[39m\u001b[38;5;124myou are eligible to vote\u001b[39m\u001b[38;5;124m\"\u001b[39m)\n\u001b[0;32m      4\u001b[0m \u001b[38;5;28;01melse\u001b[39;00m:\n",
      "\u001b[1;31mTypeError\u001b[0m: '>=' not supported between instances of 'str' and 'int'"
     ]
    }
   ],
   "source": [
    "age=input(\"how old are you?\")\n",
    "if age>=18:\n",
    "    print(\"you are eligible to vote\")\n",
    "else:\n",
    "    print(\"you are not eligible to vote,try next year\")"
   ]
  },
  {
   "cell_type": "code",
   "execution_count": 13,
   "id": "e2dfef2f-c90f-4e55-8967-701617938793",
   "metadata": {},
   "outputs": [
    {
     "name": "stdin",
     "output_type": "stream",
     "text": [
      "how old ate you? 6\n"
     ]
    },
    {
     "name": "stdout",
     "output_type": "stream",
     "text": [
      "you are not eligible to vote,try next year\n"
     ]
    }
   ],
   "source": [
    "age=input(\"how old ate you?\")\n",
    "age=int(age) # i am conv erting the string to int\n",
    "if age>=18:\n",
    "    print(\"you are eligible to vote\")\n",
    "else:\n",
    "    print(\"you are not eligible to vote,try next year\")"
   ]
  },
  {
   "cell_type": "code",
   "execution_count": null,
   "id": "9658b5b0-b6f6-4366-83e0-273b1161acef",
   "metadata": {},
   "outputs": [],
   "source": []
  },
  {
   "cell_type": "code",
   "execution_count": null,
   "id": "2b0e825a-42c7-477d-a5a7-5e8267bd9326",
   "metadata": {},
   "outputs": [],
   "source": [
    "# req: if given a number by the user, i want to find whether its even or odd,,"
   ]
  },
  {
   "cell_type": "code",
   "execution_count": 17,
   "id": "40d28438-1c37-4ea6-a968-f8ffe0f958d9",
   "metadata": {},
   "outputs": [
    {
     "name": "stdin",
     "output_type": "stream",
     "text": [
      "Enter a number, i will tell you its even or odd! 1\n"
     ]
    },
    {
     "name": "stdout",
     "output_type": "stream",
     "text": [
      "\n",
      " the number 1 is odd \n"
     ]
    }
   ],
   "source": [
    "number=input(\"Enter a number, i will tell you its even or odd!\")\n",
    "number=int(number)\n",
    "if number%2==0:\n",
    "    print(f\"\\n the number {number} is even \")\n",
    "else:\n",
    "    print(f\"\\n the number {number} is odd \")"
   ]
  },
  {
   "cell_type": "code",
   "execution_count": null,
   "id": "1886cc22-b886-4ba2-a9c3-ec21f4df1f84",
   "metadata": {},
   "outputs": [],
   "source": []
  }
 ],
 "metadata": {
  "kernelspec": {
   "display_name": "Python [conda env:base] *",
   "language": "python",
   "name": "conda-base-py"
  },
  "language_info": {
   "codemirror_mode": {
    "name": "ipython",
    "version": 3
   },
   "file_extension": ".py",
   "mimetype": "text/x-python",
   "name": "python",
   "nbconvert_exporter": "python",
   "pygments_lexer": "ipython3",
   "version": "3.13.5"
  }
 },
 "nbformat": 4,
 "nbformat_minor": 5
}

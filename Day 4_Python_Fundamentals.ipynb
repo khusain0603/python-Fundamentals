{
 "cells": [
  {
   "cell_type": "code",
   "execution_count": null,
   "id": "6f7a712f-8a67-4c4e-a435-acc457024964",
   "metadata": {},
   "outputs": [],
   "source": []
  },
  {
   "cell_type": "code",
   "execution_count": null,
   "id": "5c41e8af-6a78-422f-9ed8-174adc0eb86c",
   "metadata": {},
   "outputs": [],
   "source": [
    "introduction to list datatype\n",
    "\n",
    "        string====>completed\n",
    "        numbers===>integers(int) and float(decimal)\n",
    "        list datatype\n",
    "        Dictionaries\n",
    "\n",
    "        "
   ]
  },
  {
   "cell_type": "code",
   "execution_count": null,
   "id": "02f76b49-d429-4cab-8365-dc4f47a30892",
   "metadata": {},
   "outputs": [],
   "source": []
  },
  {
   "cell_type": "code",
   "execution_count": null,
   "id": "31bf61d2-2653-4838-84da-21ff5a45342b",
   "metadata": {},
   "outputs": [],
   "source": [
    "introduction to list datatypes\n",
    "\n",
    "defination: A list is  a collection of items defined in a particilar order\n",
    "classification: it is classified as  mutale datatype ( which can edit/alter)\n",
    "how to define the list datatype:[] #square bracket"
   ]
  },
  {
   "cell_type": "code",
   "execution_count": null,
   "id": "e82af5da-46fb-4f86-aa6c-f75871d0fd24",
   "metadata": {},
   "outputs": [],
   "source": []
  },
  {
   "cell_type": "code",
   "execution_count": 2,
   "id": "c9b4eaa0-76dc-436d-9c58-df58a2528a05",
   "metadata": {},
   "outputs": [
    {
     "name": "stdout",
     "output_type": "stream",
     "text": [
      "['arpita', 'ashwini', 'asma', 'bhuvan', 'david', 'karthik']\n"
     ]
    }
   ],
   "source": [
    "students=[ 'arpita','ashwini', 'asma', 'bhuvan', 'david', 'karthik']\n",
    "print(students)"
   ]
  },
  {
   "cell_type": "code",
   "execution_count": null,
   "id": "7cdc1e8f-52c6-4bb5-8453-d87475673ae9",
   "metadata": {},
   "outputs": [],
   "source": []
  },
  {
   "cell_type": "code",
   "execution_count": null,
   "id": "9411a446-91b7-478d-92d3-c6bb23526c43",
   "metadata": {},
   "outputs": [],
   "source": [
    "introduction to indexing: '0,'1','2','3','4','5,'6',..."
   ]
  },
  {
   "cell_type": "code",
   "execution_count": null,
   "id": "c48d72b5-adf7-4f7f-9455-ae064ce4ef9e",
   "metadata": {},
   "outputs": [],
   "source": []
  },
  {
   "cell_type": "code",
   "execution_count": null,
   "id": "3444887c-c770-42af-9222-adb6ce333ab5",
   "metadata": {},
   "outputs": [],
   "source": [
    "#req: i want to acces ashwini name in the output\n"
   ]
  },
  {
   "cell_type": "code",
   "execution_count": 3,
   "id": "1c7299cb-c135-44aa-97e3-783f5702ad55",
   "metadata": {},
   "outputs": [
    {
     "name": "stdout",
     "output_type": "stream",
     "text": [
      "ashwini\n"
     ]
    }
   ],
   "source": [
    "print(students[1])"
   ]
  },
  {
   "cell_type": "code",
   "execution_count": 4,
   "id": "7544f781-575c-4ce0-89af-60a161034d60",
   "metadata": {},
   "outputs": [
    {
     "name": "stdout",
     "output_type": "stream",
     "text": [
      "Ashwini\n"
     ]
    }
   ],
   "source": [
    "print(students[1].title())"
   ]
  },
  {
   "cell_type": "code",
   "execution_count": null,
   "id": "9b6a8e2b-019c-4ed4-ad71-cccd2934d0d8",
   "metadata": {},
   "outputs": [],
   "source": [
    "#req: i want to print bhuvan name in output:"
   ]
  },
  {
   "cell_type": "code",
   "execution_count": 5,
   "id": "107dce91-9c14-4e17-846f-53fd89739fdf",
   "metadata": {},
   "outputs": [
    {
     "name": "stdout",
     "output_type": "stream",
     "text": [
      "Bhuvan\n"
     ]
    }
   ],
   "source": [
    "print(students[3].title())"
   ]
  },
  {
   "cell_type": "code",
   "execution_count": null,
   "id": "1376d0ca-76fd-4a4d-887f-7a7d8a2bf9a2",
   "metadata": {},
   "outputs": [],
   "source": [
    "1. how to add new elements in the list\n",
    "2 how to modify the elements in list\n",
    "3. how to deleted the elementin the list\n"
   ]
  },
  {
   "cell_type": "code",
   "execution_count": 6,
   "id": "0e5c6399-88e9-4303-99e5-e6f832dac76e",
   "metadata": {},
   "outputs": [
    {
     "name": "stdout",
     "output_type": "stream",
     "text": [
      "['arpita', 'ashwini', 'asma', 'bhuvan', 'david', 'karthik']\n"
     ]
    }
   ],
   "source": [
    "print(students)"
   ]
  },
  {
   "cell_type": "code",
   "execution_count": null,
   "id": "3cf28c46-4e83-4cac-9362-03c951de576c",
   "metadata": {},
   "outputs": [],
   "source": [
    "#req: i want to add shafi name in the above list"
   ]
  },
  {
   "cell_type": "code",
   "execution_count": 9,
   "id": "39842cad-6ea8-47b1-a5f6-7d961d1e6856",
   "metadata": {},
   "outputs": [],
   "source": [
    "students.append('shafi')"
   ]
  },
  {
   "cell_type": "code",
   "execution_count": 10,
   "id": "34306f77-9b37-4dd9-b5fd-9a845a0e931a",
   "metadata": {},
   "outputs": [
    {
     "name": "stdout",
     "output_type": "stream",
     "text": [
      "['arpita', 'ashwini', 'asma', 'bhuvan', 'david', 'karthik', 'shafi', 'shafi']\n"
     ]
    }
   ],
   "source": [
    "print(students)"
   ]
  },
  {
   "cell_type": "code",
   "execution_count": null,
   "id": "c55c207b-34af-4946-b133-50f42f03e18f",
   "metadata": {},
   "outputs": [],
   "source": [
    "# i want to add kaleem at 2nd indec position.."
   ]
  },
  {
   "cell_type": "code",
   "execution_count": 11,
   "id": "3b905584-5099-48c2-956b-e52880a0ac86",
   "metadata": {},
   "outputs": [],
   "source": [
    "students.insert(2,'kaleem')"
   ]
  },
  {
   "cell_type": "code",
   "execution_count": 12,
   "id": "5f1beecb-bbc7-477d-9533-df776ad339d6",
   "metadata": {},
   "outputs": [
    {
     "name": "stdout",
     "output_type": "stream",
     "text": [
      "['arpita', 'ashwini', 'kaleem', 'asma', 'bhuvan', 'david', 'karthik', 'shafi', 'shafi']\n"
     ]
    }
   ],
   "source": [
    "print(students)"
   ]
  },
  {
   "cell_type": "code",
   "execution_count": null,
   "id": "fa0c2344-b6a8-4840-8332-1c180fee302d",
   "metadata": {},
   "outputs": [],
   "source": []
  },
  {
   "cell_type": "code",
   "execution_count": null,
   "id": "8defe2a4-a2a5-46dc-adde-78e95308584c",
   "metadata": {},
   "outputs": [],
   "source": [
    "interview question: what is the difference betwen append and insert in the list datatypes.."
   ]
  },
  {
   "cell_type": "code",
   "execution_count": null,
   "id": "063a47ad-ab77-413d-9c50-f73d37e15dbf",
   "metadata": {},
   "outputs": [],
   "source": []
  },
  {
   "cell_type": "code",
   "execution_count": 13,
   "id": "00af2d42-61cc-4320-a847-d0c1dd96014e",
   "metadata": {},
   "outputs": [
    {
     "name": "stdout",
     "output_type": "stream",
     "text": [
      "['arpita', 'ashwini', 'kaleem', 'asma', 'bhuvan', 'david', 'karthik', 'shafi', 'shafi']\n"
     ]
    }
   ],
   "source": [
    "print(students)"
   ]
  },
  {
   "cell_type": "code",
   "execution_count": null,
   "id": "aeda796e-5db0-4f42-9588-d5df8a5eda53",
   "metadata": {},
   "outputs": [],
   "source": [
    "#req: i want to modify arpita name to anand..."
   ]
  },
  {
   "cell_type": "code",
   "execution_count": null,
   "id": "c3547351-71e2-4683-a829-7d68724a9db3",
   "metadata": {},
   "outputs": [],
   "source": [
    "students[0]='Anand'"
   ]
  },
  {
   "cell_type": "code",
   "execution_count": 14,
   "id": "e6d68d90-12a6-4280-bbe5-7daaf925e97f",
   "metadata": {},
   "outputs": [
    {
     "name": "stdout",
     "output_type": "stream",
     "text": [
      "['arpita', 'ashwini', 'kaleem', 'asma', 'bhuvan', 'david', 'karthik', 'shafi', 'shafi']\n"
     ]
    }
   ],
   "source": [
    "print(students)"
   ]
  },
  {
   "cell_type": "code",
   "execution_count": null,
   "id": "52731943-a976-479b-8fc0-a6f9ab97970c",
   "metadata": {},
   "outputs": [],
   "source": [
    "#req= i want to delete ashwini name in the above list...?"
   ]
  },
  {
   "cell_type": "code",
   "execution_count": null,
   "id": "d3401c88-457d-48ba-9e8a-c98886bc4494",
   "metadata": {},
   "outputs": [],
   "source": [
    "del students[1]"
   ]
  },
  {
   "cell_type": "code",
   "execution_count": 15,
   "id": "835c7467-ad33-43e5-91fc-d6e82aba25dd",
   "metadata": {},
   "outputs": [
    {
     "name": "stdout",
     "output_type": "stream",
     "text": [
      "['arpita', 'ashwini', 'kaleem', 'asma', 'bhuvan', 'david', 'karthik', 'shafi', 'shafi']\n"
     ]
    }
   ],
   "source": [
    "print(students)"
   ]
  },
  {
   "cell_type": "code",
   "execution_count": null,
   "id": "56690343-1adb-4611-86aa-5a11315c85f7",
   "metadata": {},
   "outputs": [],
   "source": []
  }
 ],
 "metadata": {
  "kernelspec": {
   "display_name": "Python [conda env:base] *",
   "language": "python",
   "name": "conda-base-py"
  },
  "language_info": {
   "codemirror_mode": {
    "name": "ipython",
    "version": 3
   },
   "file_extension": ".py",
   "mimetype": "text/x-python",
   "name": "python",
   "nbconvert_exporter": "python",
   "pygments_lexer": "ipython3",
   "version": "3.13.5"
  }
 },
 "nbformat": 4,
 "nbformat_minor": 5
}

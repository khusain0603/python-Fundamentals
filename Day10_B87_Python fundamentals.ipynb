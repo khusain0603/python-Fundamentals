{
 "cells": [
  {
   "cell_type": "code",
   "execution_count": null,
   "id": "1540c15d-8237-45e4-b112-0f098a68b519",
   "metadata": {},
   "outputs": [],
   "source": []
  },
  {
   "cell_type": "code",
   "execution_count": 1,
   "id": "5ecffc8c-4ec5-43b0-80f7-b75ee99f9408",
   "metadata": {},
   "outputs": [],
   "source": [
    "def describe_pet(animal_type,pet_name):\n",
    "    \"\"\"desribe the information about the pet\"\"\"\n",
    "    print(f\"my i have a {animal_type}\")\n",
    "    print(f\"my {animal_type}'s name is {pet_name}\")"
   ]
  },
  {
   "cell_type": "code",
   "execution_count": 2,
   "id": "c3b9cd1b-8140-485a-b47b-0a9706dc25e4",
   "metadata": {},
   "outputs": [
    {
     "name": "stdout",
     "output_type": "stream",
     "text": [
      "my i have a dog\n",
      "my dog's name is bruno\n"
     ]
    }
   ],
   "source": [
    "describe_pet('dog','bruno')"
   ]
  },
  {
   "cell_type": "code",
   "execution_count": null,
   "id": "0f247bce-ea0e-45c4-ad2d-9fa11398cd1a",
   "metadata": {},
   "outputs": [],
   "source": []
  },
  {
   "cell_type": "code",
   "execution_count": 3,
   "id": "4b774d71-7ebd-478b-9643-8be4f288e61b",
   "metadata": {},
   "outputs": [],
   "source": [
    "def describe_pet(pet_name,animal_type='dog'):\n",
    "    \"\"\"desribe the information about the pet\"\"\"\n",
    "    print(f\"my i have a {animal_type}\")\n",
    "    print(f\"my {animal_type}'s name is {pet_name}\")"
   ]
  },
  {
   "cell_type": "code",
   "execution_count": 4,
   "id": "01adcf55-0cb7-4c89-a02e-8f88da09650c",
   "metadata": {},
   "outputs": [
    {
     "name": "stdout",
     "output_type": "stream",
     "text": [
      "my i have a dog\n",
      "my dog's name is rex\n"
     ]
    }
   ],
   "source": [
    "describe_pet('rex')"
   ]
  },
  {
   "cell_type": "code",
   "execution_count": null,
   "id": "4f1d6a3f-67df-47e2-ab96-93213119aff6",
   "metadata": {},
   "outputs": [],
   "source": []
  },
  {
   "cell_type": "code",
   "execution_count": 5,
   "id": "a18c7069-929f-4f3d-941d-fab6eee76400",
   "metadata": {},
   "outputs": [
    {
     "name": "stdout",
     "output_type": "stream",
     "text": [
      "my i have a cat\n",
      "my cat's name is bruno\n"
     ]
    }
   ],
   "source": [
    "describe_pet('bruno','cat')"
   ]
  },
  {
   "cell_type": "code",
   "execution_count": null,
   "id": "4de783c0-cfec-4af4-bee4-83f823406b13",
   "metadata": {},
   "outputs": [],
   "source": []
  },
  {
   "cell_type": "code",
   "execution_count": null,
   "id": "95f10e86-ca21-40c3-915b-872a7c986728",
   "metadata": {},
   "outputs": [],
   "source": [
    "#req: take a firstname and laastname and return it with a neatlyt formated name"
   ]
  },
  {
   "cell_type": "code",
   "execution_count": 6,
   "id": "1d89aed1-590e-4a4e-b3bd-2c89b44ae402",
   "metadata": {},
   "outputs": [],
   "source": [
    "def get_formatted_name(first_name,last_name):\n",
    "    \"\"\"return a fullname ,neatly forrmatted\"\"\"\n",
    "    full_name=f\"{first_name} {last_name}\"\n",
    "    return full_name.title()"
   ]
  },
  {
   "cell_type": "code",
   "execution_count": 8,
   "id": "15e333db-e5c4-4097-bddb-ae76cc5b5137",
   "metadata": {},
   "outputs": [
    {
     "name": "stdout",
     "output_type": "stream",
     "text": [
      "Sai Kiram\n"
     ]
    }
   ],
   "source": [
    "person=get_formatted_name('sai','kiram')\n",
    "print(person)"
   ]
  },
  {
   "cell_type": "code",
   "execution_count": null,
   "id": "b077416a-e4ba-4a41-9378-a2433b7c3dd6",
   "metadata": {},
   "outputs": [],
   "source": []
  },
  {
   "cell_type": "code",
   "execution_count": null,
   "id": "daada728-ad7d-4a93-b536-356ab7d0592a",
   "metadata": {},
   "outputs": [],
   "source": [
    "#passing arbitary arguments:"
   ]
  },
  {
   "cell_type": "code",
   "execution_count": 10,
   "id": "d82e69a3-71eb-4168-af34-95632529c90d",
   "metadata": {},
   "outputs": [],
   "source": [
    "def make_pizza(toppings):\n",
    "    \"\"\"print the kist of toppings that has been requested\"\"\"\n",
    "    print(toppings)"
   ]
  },
  {
   "cell_type": "code",
   "execution_count": 11,
   "id": "9962caaf-baaa-47ea-812a-9ddcbcf38b96",
   "metadata": {},
   "outputs": [
    {
     "name": "stdout",
     "output_type": "stream",
     "text": [
      "olives\n"
     ]
    }
   ],
   "source": [
    "make_pizza('olives')"
   ]
  },
  {
   "cell_type": "code",
   "execution_count": 12,
   "id": "0a0ac82a-bdd3-4393-bedb-ac4bad7d0d32",
   "metadata": {},
   "outputs": [
    {
     "ename": "TypeError",
     "evalue": "make_pizza() takes 1 positional argument but 2 were given",
     "output_type": "error",
     "traceback": [
      "\u001b[1;31m---------------------------------------------------------------------------\u001b[0m",
      "\u001b[1;31mTypeError\u001b[0m                                 Traceback (most recent call last)",
      "Cell \u001b[1;32mIn[12], line 1\u001b[0m\n\u001b[1;32m----> 1\u001b[0m make_pizza(\u001b[38;5;124m'\u001b[39m\u001b[38;5;124molives\u001b[39m\u001b[38;5;124m'\u001b[39m,\u001b[38;5;124m'\u001b[39m\u001b[38;5;124mcorn\u001b[39m\u001b[38;5;124m'\u001b[39m)\n",
      "\u001b[1;31mTypeError\u001b[0m: make_pizza() takes 1 positional argument but 2 were given"
     ]
    }
   ],
   "source": [
    "make_pizza('olives','corn')"
   ]
  },
  {
   "cell_type": "code",
   "execution_count": 13,
   "id": "a43cd814-0aa4-4093-9beb-960ea6761f17",
   "metadata": {},
   "outputs": [
    {
     "ename": "TypeError",
     "evalue": "make_pizza() takes 1 positional argument but 3 were given",
     "output_type": "error",
     "traceback": [
      "\u001b[1;31m---------------------------------------------------------------------------\u001b[0m",
      "\u001b[1;31mTypeError\u001b[0m                                 Traceback (most recent call last)",
      "Cell \u001b[1;32mIn[13], line 1\u001b[0m\n\u001b[1;32m----> 1\u001b[0m make_pizza(\u001b[38;5;124m'\u001b[39m\u001b[38;5;124molives\u001b[39m\u001b[38;5;124m'\u001b[39m,\u001b[38;5;124m'\u001b[39m\u001b[38;5;124mcorn\u001b[39m\u001b[38;5;124m'\u001b[39m,\u001b[38;5;124m'\u001b[39m\u001b[38;5;124monion\u001b[39m\u001b[38;5;124m'\u001b[39m)\n",
      "\u001b[1;31mTypeError\u001b[0m: make_pizza() takes 1 positional argument but 3 were given"
     ]
    }
   ],
   "source": [
    "make_pizza('olives','corn','onion')"
   ]
  },
  {
   "cell_type": "code",
   "execution_count": 14,
   "id": "7e99d0c4-58e2-4da0-acdd-ff904016095f",
   "metadata": {},
   "outputs": [],
   "source": [
    "def make_pizza(*toppings):\n",
    "    \"\"\"print the kist of toppings that has been requested\"\"\"\n",
    "    print(toppings)"
   ]
  },
  {
   "cell_type": "code",
   "execution_count": 15,
   "id": "fb02d8c9-5915-46fa-a908-f7cb10f2c73f",
   "metadata": {},
   "outputs": [
    {
     "name": "stdout",
     "output_type": "stream",
     "text": [
      "('olives', 'corn')\n"
     ]
    }
   ],
   "source": [
    "make_pizza('olives','corn')"
   ]
  },
  {
   "cell_type": "code",
   "execution_count": 16,
   "id": "7742d51f-2f05-400a-b4e2-d26e77320ee5",
   "metadata": {},
   "outputs": [
    {
     "name": "stdout",
     "output_type": "stream",
     "text": [
      "('olives', 'corn', 'onion')\n"
     ]
    }
   ],
   "source": [
    "make_pizza('olives','corn','onion')"
   ]
  },
  {
   "cell_type": "code",
   "execution_count": null,
   "id": "893c10d8-a2a9-4c43-afab-a45a946633e8",
   "metadata": {},
   "outputs": [],
   "source": []
  },
  {
   "cell_type": "code",
   "execution_count": 17,
   "id": "277592f7-008d-44c2-bbae-c1116904de7e",
   "metadata": {},
   "outputs": [],
   "source": [
    "def make_pizza(*toppings):\n",
    "    \"\"\"Summarize thr pizza that i want to make\"\"\"\n",
    "    print(\"\\n making the pizza with the below toppings\")\n",
    "    for a in toppings:\n",
    "        print(f\"{a}\")"
   ]
  },
  {
   "cell_type": "code",
   "execution_count": 18,
   "id": "ee7ce91b-1775-4be4-b05f-743b2df19aa3",
   "metadata": {},
   "outputs": [
    {
     "name": "stdout",
     "output_type": "stream",
     "text": [
      "\n",
      " making the pizza with the below toppings\n",
      "olives\n",
      "corn\n",
      "onion\n"
     ]
    }
   ],
   "source": [
    "make_pizza('olives','corn','onion')"
   ]
  },
  {
   "cell_type": "code",
   "execution_count": 21,
   "id": "9a5c3dbb-01dc-4ba2-8bce-5f96c41642a6",
   "metadata": {},
   "outputs": [],
   "source": [
    "def make_pizza(size,*toppings):\n",
    "    \"\"\"Summarize thr pizza that i want to make\"\"\"\n",
    "    print(f\"\\n making a {size} inch pizza with the below toppings:\")\n",
    "    for a in toppings:\n",
    "        print(f\"{a}\")"
   ]
  },
  {
   "cell_type": "code",
   "execution_count": 22,
   "id": "16639898-58a5-4883-bdaf-915cc53b89bc",
   "metadata": {},
   "outputs": [
    {
     "name": "stdout",
     "output_type": "stream",
     "text": [
      "\n",
      " making a 12 inch pizza with the below toppings:\n",
      "olives\n",
      "corn\n",
      "onion\n"
     ]
    }
   ],
   "source": [
    "make_pizza(12,'olives','corn','onion')"
   ]
  },
  {
   "cell_type": "code",
   "execution_count": null,
   "id": "9af51f65-1313-4232-8a56-22078268e138",
   "metadata": {},
   "outputs": [],
   "source": []
  }
 ],
 "metadata": {
  "kernelspec": {
   "display_name": "Python [conda env:base] *",
   "language": "python",
   "name": "conda-base-py"
  },
  "language_info": {
   "codemirror_mode": {
    "name": "ipython",
    "version": 3
   },
   "file_extension": ".py",
   "mimetype": "text/x-python",
   "name": "python",
   "nbconvert_exporter": "python",
   "pygments_lexer": "ipython3",
   "version": "3.13.5"
  }
 },
 "nbformat": 4,
 "nbformat_minor": 5
}

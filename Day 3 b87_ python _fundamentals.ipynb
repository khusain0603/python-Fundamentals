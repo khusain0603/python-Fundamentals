{
 "cells": [
  {
   "cell_type": "code",
   "execution_count": null,
   "id": "cb560f39-bc9b-4a72-a898-00b80bb586b2",
   "metadata": {},
   "outputs": [],
   "source": [
    "continuation with string datatypes"
   ]
  },
  {
   "cell_type": "code",
   "execution_count": null,
   "id": "5ca7f539-4aa8-4303-bb60-bc32ae381f08",
   "metadata": {},
   "outputs": [],
   "source": []
  },
  {
   "cell_type": "code",
   "execution_count": null,
   "id": "e528df73-caa9-4cfa-8a57-e0833c2044fc",
   "metadata": {},
   "outputs": [],
   "source": [
    "introduction to f strings"
   ]
  },
  {
   "cell_type": "code",
   "execution_count": null,
   "id": "99256363-8398-4d4f-aa28-65839e573222",
   "metadata": {},
   "outputs": [],
   "source": [
    "firstname=\"dinesh\"\n",
    "lastname=\"kumar\""
   ]
  },
  {
   "cell_type": "code",
   "execution_count": null,
   "id": "01ab48f6-d68a-43c1-a5a7-c1e78d2cd7a6",
   "metadata": {},
   "outputs": [],
   "source": [
    "# req: i want to get the fullname...?"
   ]
  },
  {
   "cell_type": "code",
   "execution_count": null,
   "id": "60e63d06-f54a-44e0-a3ce-3b259bf4475a",
   "metadata": {},
   "outputs": [],
   "source": [
    "#general syntax of f strings"
   ]
  },
  {
   "cell_type": "code",
   "execution_count": null,
   "id": "5f8459be-30b5-4610-bf53-566dcc0040c1",
   "metadata": {},
   "outputs": [],
   "source": [
    "f\" custom message {place_holder1} {placeholder_2}......{placeholder_n}\""
   ]
  },
  {
   "cell_type": "code",
   "execution_count": 24,
   "id": "ecf2ed42-d601-4c2f-97f8-872ce01ffba5",
   "metadata": {},
   "outputs": [
    {
     "name": "stdout",
     "output_type": "stream",
     "text": [
      "dineshkumar\n"
     ]
    }
   ],
   "source": [
    "firstname=\"dinesh\"\n",
    "lastname=\"kumar\"\n",
    "fullname=f\"{firstname}{lastname}\"\n",
    "print(fullname)\n",
    "\n",
    "\n"
   ]
  },
  {
   "cell_type": "code",
   "execution_count": 25,
   "id": "84ad3406-8139-4f87-b270-b1f54a2f90af",
   "metadata": {},
   "outputs": [
    {
     "name": "stdout",
     "output_type": "stream",
     "text": [
      "Dineshkumar\n"
     ]
    }
   ],
   "source": [
    "print(fullname.title())"
   ]
  },
  {
   "cell_type": "code",
   "execution_count": 35,
   "id": "d1f4dd16-5d3b-4def-810c-03d30aa05be8",
   "metadata": {},
   "outputs": [
    {
     "name": "stdout",
     "output_type": "stream",
     "text": [
      " keep up the good work, Dineshkumar\n"
     ]
    }
   ],
   "source": [
    " message= f\" keep up the good work, {fullname.title()}\"\n",
    "print(message)\n",
    "\n"
   ]
  },
  {
   "cell_type": "code",
   "execution_count": null,
   "id": "f6c39f10-c347-419f-938f-0c310e3093b9",
   "metadata": {},
   "outputs": [],
   "source": []
  },
  {
   "cell_type": "code",
   "execution_count": null,
   "id": "f446ac8e-6517-4651-87c0-4c45b0f18c07",
   "metadata": {},
   "outputs": [],
   "source": [
    "adding whitespaces to strings:"
   ]
  },
  {
   "cell_type": "code",
   "execution_count": 36,
   "id": "af9f952f-35b9-4063-9823-96d1e06339db",
   "metadata": {},
   "outputs": [
    {
     "name": "stdout",
     "output_type": "stream",
     "text": [
      "favourite_language:PythonCjavac++swiftjavascript\n"
     ]
    }
   ],
   "source": [
    "print(\"favourite_language:PythonCjavac++swiftjavascript\")"
   ]
  },
  {
   "cell_type": "code",
   "execution_count": 37,
   "id": "9ffbd7b4-06c2-44c3-a4eb-fea75b88fa5e",
   "metadata": {},
   "outputs": [
    {
     "name": "stdout",
     "output_type": "stream",
     "text": [
      "favourite_language:\n",
      "Python\n",
      "C\n",
      "java\n",
      "c++\n",
      "swift\n",
      "javascript\n"
     ]
    }
   ],
   "source": [
    "print(\"favourite_language:\\nPython\\nC\\njava\\nc++\\nswift\\njavascript\")"
   ]
  },
  {
   "cell_type": "code",
   "execution_count": null,
   "id": "15da96c0-4889-4d3f-80d6-37f27d87e44e",
   "metadata": {},
   "outputs": [],
   "source": [
    "removing whitespaces from the strings:"
   ]
  },
  {
   "cell_type": "code",
   "execution_count": 38,
   "id": "bb062314-5613-43dd-b325-3906eb047403",
   "metadata": {},
   "outputs": [
    {
     "name": "stdout",
     "output_type": "stream",
     "text": [
      "  python\n"
     ]
    }
   ],
   "source": [
    "name=\"  python\"\n",
    "\n",
    "print(name)"
   ]
  },
  {
   "cell_type": "code",
   "execution_count": 39,
   "id": "d26c0838-1e6f-4413-be85-3381cde59898",
   "metadata": {},
   "outputs": [
    {
     "name": "stdout",
     "output_type": "stream",
     "text": [
      "python\n"
     ]
    }
   ],
   "source": [
    "name2=\"python\"\n",
    "print(name2)"
   ]
  },
  {
   "cell_type": "code",
   "execution_count": 40,
   "id": "5d958243-f587-485a-aadf-f46d12912fc9",
   "metadata": {},
   "outputs": [
    {
     "name": "stdout",
     "output_type": "stream",
     "text": [
      "python  \n"
     ]
    }
   ],
   "source": [
    "name3=\"python  \"\n",
    "\n",
    "print(name3)\n"
   ]
  },
  {
   "cell_type": "code",
   "execution_count": 41,
   "id": "c6380af4-b8ff-4a28-b897-46839b05b262",
   "metadata": {},
   "outputs": [
    {
     "data": {
      "text/plain": [
       "'python'"
      ]
     },
     "execution_count": 41,
     "metadata": {},
     "output_type": "execute_result"
    }
   ],
   "source": [
    "name.lstrip()\n"
   ]
  },
  {
   "cell_type": "code",
   "execution_count": 43,
   "id": "a3e9b089-a1b8-4bc9-8203-566d324378dc",
   "metadata": {},
   "outputs": [
    {
     "name": "stdout",
     "output_type": "stream",
     "text": [
      " python \n"
     ]
    }
   ],
   "source": [
    "name4= \" python \"\n",
    "print(name4)\n"
   ]
  },
  {
   "cell_type": "code",
   "execution_count": null,
   "id": "fe1093e8-b342-401f-a1d3-3a05ef3f9b10",
   "metadata": {},
   "outputs": [],
   "source": []
  }
 ],
 "metadata": {
  "kernelspec": {
   "display_name": "Python [conda env:base] *",
   "language": "python",
   "name": "conda-base-py"
  },
  "language_info": {
   "codemirror_mode": {
    "name": "ipython",
    "version": 3
   },
   "file_extension": ".py",
   "mimetype": "text/x-python",
   "name": "python",
   "nbconvert_exporter": "python",
   "pygments_lexer": "ipython3",
   "version": "3.13.5"
  }
 },
 "nbformat": 4,
 "nbformat_minor": 5
}
